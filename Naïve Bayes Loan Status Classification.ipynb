{
 "cells": [
  {
   "cell_type": "markdown",
   "id": "5ce7fc26",
   "metadata": {},
   "source": [
    "# Part-1: Data Exploration and Pre-processing"
   ]
  },
  {
   "cell_type": "markdown",
   "id": "0072f2ce",
   "metadata": {},
   "source": [
    "# 1) load the given dataset "
   ]
  },
  {
   "cell_type": "code",
   "execution_count": 138,
   "id": "1e5cc43f",
   "metadata": {},
   "outputs": [
    {
     "data": {
      "text/html": [
       "<div>\n",
       "<style scoped>\n",
       "    .dataframe tbody tr th:only-of-type {\n",
       "        vertical-align: middle;\n",
       "    }\n",
       "\n",
       "    .dataframe tbody tr th {\n",
       "        vertical-align: top;\n",
       "    }\n",
       "\n",
       "    .dataframe thead th {\n",
       "        text-align: right;\n",
       "    }\n",
       "</style>\n",
       "<table border=\"1\" class=\"dataframe\">\n",
       "  <thead>\n",
       "    <tr style=\"text-align: right;\">\n",
       "      <th></th>\n",
       "      <th>ID</th>\n",
       "      <th>LIMIT_BAL</th>\n",
       "      <th>AGE</th>\n",
       "      <th>BILL_AMT1</th>\n",
       "      <th>BILL_AMT2</th>\n",
       "      <th>BILL_AMT3</th>\n",
       "      <th>BILL_AMT4</th>\n",
       "      <th>BILL_AMT5</th>\n",
       "      <th>BILL_AMT6</th>\n",
       "      <th>PAY_AMT1</th>\n",
       "      <th>PAY_AMT2</th>\n",
       "      <th>PAY_AMT3</th>\n",
       "      <th>PAY_AMT4</th>\n",
       "      <th>PAY_AMT5</th>\n",
       "      <th>PAY_AMT6</th>\n",
       "      <th>Default Status</th>\n",
       "    </tr>\n",
       "  </thead>\n",
       "  <tbody>\n",
       "    <tr>\n",
       "      <th>0</th>\n",
       "      <td>1</td>\n",
       "      <td>2.0</td>\n",
       "      <td>24</td>\n",
       "      <td>3913.0</td>\n",
       "      <td>312.0</td>\n",
       "      <td>689.0</td>\n",
       "      <td>NaN</td>\n",
       "      <td>NaN</td>\n",
       "      <td>NaN</td>\n",
       "      <td>NaN</td>\n",
       "      <td>689.0</td>\n",
       "      <td>NaN</td>\n",
       "      <td>NaN</td>\n",
       "      <td>NaN</td>\n",
       "      <td>NaN</td>\n",
       "      <td>Default</td>\n",
       "    </tr>\n",
       "    <tr>\n",
       "      <th>1</th>\n",
       "      <td>2</td>\n",
       "      <td>12.0</td>\n",
       "      <td>26</td>\n",
       "      <td>2682.0</td>\n",
       "      <td>1725.0</td>\n",
       "      <td>2682.0</td>\n",
       "      <td>3272.0</td>\n",
       "      <td>3455.0</td>\n",
       "      <td>3261.0</td>\n",
       "      <td>NaN</td>\n",
       "      <td>1.0</td>\n",
       "      <td>1.0</td>\n",
       "      <td>1.0</td>\n",
       "      <td>NaN</td>\n",
       "      <td>2.0</td>\n",
       "      <td>Default</td>\n",
       "    </tr>\n",
       "    <tr>\n",
       "      <th>2</th>\n",
       "      <td>3</td>\n",
       "      <td>9.0</td>\n",
       "      <td>34</td>\n",
       "      <td>29239.0</td>\n",
       "      <td>1427.0</td>\n",
       "      <td>13559.0</td>\n",
       "      <td>14331.0</td>\n",
       "      <td>14948.0</td>\n",
       "      <td>15549.0</td>\n",
       "      <td>1518.0</td>\n",
       "      <td>15.0</td>\n",
       "      <td>1.0</td>\n",
       "      <td>1.0</td>\n",
       "      <td>1.0</td>\n",
       "      <td>5.0</td>\n",
       "      <td>Not Default</td>\n",
       "    </tr>\n",
       "    <tr>\n",
       "      <th>3</th>\n",
       "      <td>4</td>\n",
       "      <td>5.0</td>\n",
       "      <td>37</td>\n",
       "      <td>4699.0</td>\n",
       "      <td>48233.0</td>\n",
       "      <td>49291.0</td>\n",
       "      <td>28314.0</td>\n",
       "      <td>28959.0</td>\n",
       "      <td>29547.0</td>\n",
       "      <td>2.0</td>\n",
       "      <td>219.0</td>\n",
       "      <td>12.0</td>\n",
       "      <td>11.0</td>\n",
       "      <td>169.0</td>\n",
       "      <td>1.0</td>\n",
       "      <td>Not Default</td>\n",
       "    </tr>\n",
       "    <tr>\n",
       "      <th>4</th>\n",
       "      <td>5</td>\n",
       "      <td>5.0</td>\n",
       "      <td>57</td>\n",
       "      <td>8617.0</td>\n",
       "      <td>567.0</td>\n",
       "      <td>35835.0</td>\n",
       "      <td>294.0</td>\n",
       "      <td>19146.0</td>\n",
       "      <td>19131.0</td>\n",
       "      <td>2.0</td>\n",
       "      <td>36681.0</td>\n",
       "      <td>1.0</td>\n",
       "      <td>9.0</td>\n",
       "      <td>689.0</td>\n",
       "      <td>679.0</td>\n",
       "      <td>Not Default</td>\n",
       "    </tr>\n",
       "    <tr>\n",
       "      <th>...</th>\n",
       "      <td>...</td>\n",
       "      <td>...</td>\n",
       "      <td>...</td>\n",
       "      <td>...</td>\n",
       "      <td>...</td>\n",
       "      <td>...</td>\n",
       "      <td>...</td>\n",
       "      <td>...</td>\n",
       "      <td>...</td>\n",
       "      <td>...</td>\n",
       "      <td>...</td>\n",
       "      <td>...</td>\n",
       "      <td>...</td>\n",
       "      <td>...</td>\n",
       "      <td>...</td>\n",
       "      <td>...</td>\n",
       "    </tr>\n",
       "    <tr>\n",
       "      <th>29995</th>\n",
       "      <td>29996</td>\n",
       "      <td>22.0</td>\n",
       "      <td>39</td>\n",
       "      <td>188948.0</td>\n",
       "      <td>192815.0</td>\n",
       "      <td>28365.0</td>\n",
       "      <td>884.0</td>\n",
       "      <td>31237.0</td>\n",
       "      <td>1598.0</td>\n",
       "      <td>85.0</td>\n",
       "      <td>2.0</td>\n",
       "      <td>53.0</td>\n",
       "      <td>347.0</td>\n",
       "      <td>5.0</td>\n",
       "      <td>1.0</td>\n",
       "      <td>Not Default</td>\n",
       "    </tr>\n",
       "    <tr>\n",
       "      <th>29996</th>\n",
       "      <td>29997</td>\n",
       "      <td>15.0</td>\n",
       "      <td>43</td>\n",
       "      <td>1683.0</td>\n",
       "      <td>1828.0</td>\n",
       "      <td>352.0</td>\n",
       "      <td>8979.0</td>\n",
       "      <td>519.0</td>\n",
       "      <td>NaN</td>\n",
       "      <td>1837.0</td>\n",
       "      <td>3526.0</td>\n",
       "      <td>8998.0</td>\n",
       "      <td>129.0</td>\n",
       "      <td>NaN</td>\n",
       "      <td>NaN</td>\n",
       "      <td>Not Default</td>\n",
       "    </tr>\n",
       "    <tr>\n",
       "      <th>29997</th>\n",
       "      <td>29998</td>\n",
       "      <td>3.0</td>\n",
       "      <td>37</td>\n",
       "      <td>3565.0</td>\n",
       "      <td>3356.0</td>\n",
       "      <td>2758.0</td>\n",
       "      <td>2878.0</td>\n",
       "      <td>2582.0</td>\n",
       "      <td>19357.0</td>\n",
       "      <td>NaN</td>\n",
       "      <td>NaN</td>\n",
       "      <td>22.0</td>\n",
       "      <td>42.0</td>\n",
       "      <td>2.0</td>\n",
       "      <td>31.0</td>\n",
       "      <td>Default</td>\n",
       "    </tr>\n",
       "    <tr>\n",
       "      <th>29998</th>\n",
       "      <td>29999</td>\n",
       "      <td>8.0</td>\n",
       "      <td>41</td>\n",
       "      <td>-1645.0</td>\n",
       "      <td>78379.0</td>\n",
       "      <td>7634.0</td>\n",
       "      <td>52774.0</td>\n",
       "      <td>11855.0</td>\n",
       "      <td>48944.0</td>\n",
       "      <td>859.0</td>\n",
       "      <td>349.0</td>\n",
       "      <td>1178.0</td>\n",
       "      <td>1926.0</td>\n",
       "      <td>52964.0</td>\n",
       "      <td>184.0</td>\n",
       "      <td>Default</td>\n",
       "    </tr>\n",
       "    <tr>\n",
       "      <th>29999</th>\n",
       "      <td>3</td>\n",
       "      <td>5.0</td>\n",
       "      <td>46</td>\n",
       "      <td>47929.0</td>\n",
       "      <td>4895.0</td>\n",
       "      <td>49764.0</td>\n",
       "      <td>36535.0</td>\n",
       "      <td>32428.0</td>\n",
       "      <td>15313.0</td>\n",
       "      <td>278.0</td>\n",
       "      <td>18.0</td>\n",
       "      <td>143.0</td>\n",
       "      <td>1.0</td>\n",
       "      <td>1.0</td>\n",
       "      <td>1.0</td>\n",
       "      <td>Default</td>\n",
       "    </tr>\n",
       "  </tbody>\n",
       "</table>\n",
       "<p>30000 rows × 16 columns</p>\n",
       "</div>"
      ],
      "text/plain": [
       "          ID  LIMIT_BAL  AGE  BILL_AMT1  BILL_AMT2  BILL_AMT3  BILL_AMT4  \\\n",
       "0          1        2.0   24     3913.0      312.0      689.0        NaN   \n",
       "1          2       12.0   26     2682.0     1725.0     2682.0     3272.0   \n",
       "2          3        9.0   34    29239.0     1427.0    13559.0    14331.0   \n",
       "3          4        5.0   37     4699.0    48233.0    49291.0    28314.0   \n",
       "4          5        5.0   57     8617.0      567.0    35835.0      294.0   \n",
       "...      ...        ...  ...        ...        ...        ...        ...   \n",
       "29995  29996       22.0   39   188948.0   192815.0    28365.0      884.0   \n",
       "29996  29997       15.0   43     1683.0     1828.0      352.0     8979.0   \n",
       "29997  29998        3.0   37     3565.0     3356.0     2758.0     2878.0   \n",
       "29998  29999        8.0   41    -1645.0    78379.0     7634.0    52774.0   \n",
       "29999      3        5.0   46    47929.0     4895.0    49764.0    36535.0   \n",
       "\n",
       "       BILL_AMT5  BILL_AMT6  PAY_AMT1  PAY_AMT2  PAY_AMT3  PAY_AMT4  PAY_AMT5  \\\n",
       "0            NaN        NaN       NaN     689.0       NaN       NaN       NaN   \n",
       "1         3455.0     3261.0       NaN       1.0       1.0       1.0       NaN   \n",
       "2        14948.0    15549.0    1518.0      15.0       1.0       1.0       1.0   \n",
       "3        28959.0    29547.0       2.0     219.0      12.0      11.0     169.0   \n",
       "4        19146.0    19131.0       2.0   36681.0       1.0       9.0     689.0   \n",
       "...          ...        ...       ...       ...       ...       ...       ...   \n",
       "29995    31237.0     1598.0      85.0       2.0      53.0     347.0       5.0   \n",
       "29996      519.0        NaN    1837.0    3526.0    8998.0     129.0       NaN   \n",
       "29997     2582.0    19357.0       NaN       NaN      22.0      42.0       2.0   \n",
       "29998    11855.0    48944.0     859.0     349.0    1178.0    1926.0   52964.0   \n",
       "29999    32428.0    15313.0     278.0      18.0     143.0       1.0       1.0   \n",
       "\n",
       "       PAY_AMT6 Default Status  \n",
       "0           NaN        Default  \n",
       "1           2.0        Default  \n",
       "2           5.0    Not Default  \n",
       "3           1.0    Not Default  \n",
       "4         679.0    Not Default  \n",
       "...         ...            ...  \n",
       "29995       1.0    Not Default  \n",
       "29996       NaN    Not Default  \n",
       "29997      31.0        Default  \n",
       "29998     184.0        Default  \n",
       "29999       1.0        Default  \n",
       "\n",
       "[30000 rows x 16 columns]"
      ]
     },
     "execution_count": 138,
     "metadata": {},
     "output_type": "execute_result"
    }
   ],
   "source": [
    "import pandas as pd\n",
    "data=pd.read_csv(r\"C:\\Users\\DELL\\Downloads\\ML Project - Naive Bayes Loan Status Classification U16955482770.txt\")\n",
    "data"
   ]
  },
  {
   "cell_type": "markdown",
   "id": "fec7e1cc",
   "metadata": {},
   "source": [
    "# 2) check the null values"
   ]
  },
  {
   "cell_type": "code",
   "execution_count": 139,
   "id": "914b7107",
   "metadata": {},
   "outputs": [
    {
     "data": {
      "text/plain": [
       "ID                   0\n",
       "LIMIT_BAL            0\n",
       "AGE                  0\n",
       "BILL_AMT1         2008\n",
       "BILL_AMT2         2506\n",
       "BILL_AMT3         2870\n",
       "BILL_AMT4         3195\n",
       "BILL_AMT5         3506\n",
       "BILL_AMT6         4020\n",
       "PAY_AMT1          5249\n",
       "PAY_AMT2          5396\n",
       "PAY_AMT3          5968\n",
       "PAY_AMT4          6408\n",
       "PAY_AMT5          6703\n",
       "PAY_AMT6          7173\n",
       "Default Status       0\n",
       "dtype: int64"
      ]
     },
     "execution_count": 139,
     "metadata": {},
     "output_type": "execute_result"
    }
   ],
   "source": [
    "data.isnull().sum()"
   ]
  },
  {
   "cell_type": "markdown",
   "id": "4747c96b",
   "metadata": {},
   "source": [
    "# 3) print the column names "
   ]
  },
  {
   "cell_type": "code",
   "execution_count": 140,
   "id": "6f3f13f2",
   "metadata": {},
   "outputs": [
    {
     "data": {
      "text/plain": [
       "Index(['ID', 'LIMIT_BAL', 'AGE', 'BILL_AMT1', 'BILL_AMT2', 'BILL_AMT3',\n",
       "       'BILL_AMT4', 'BILL_AMT5', 'BILL_AMT6', 'PAY_AMT1', 'PAY_AMT2',\n",
       "       'PAY_AMT3', 'PAY_AMT4', 'PAY_AMT5', 'PAY_AMT6', 'Default Status'],\n",
       "      dtype='object')"
      ]
     },
     "execution_count": 140,
     "metadata": {},
     "output_type": "execute_result"
    }
   ],
   "source": [
    "data.columns"
   ]
  },
  {
   "cell_type": "markdown",
   "id": "2d7cdbd6",
   "metadata": {},
   "source": [
    "#  create list for all the columns which have null values columns"
   ]
  },
  {
   "cell_type": "code",
   "execution_count": 141,
   "id": "4a4c3704",
   "metadata": {},
   "outputs": [
    {
     "data": {
      "text/plain": [
       "ID                   0\n",
       "LIMIT_BAL            0\n",
       "AGE                  0\n",
       "BILL_AMT1         2008\n",
       "BILL_AMT2         2506\n",
       "BILL_AMT3         2870\n",
       "BILL_AMT4         3195\n",
       "BILL_AMT5         3506\n",
       "BILL_AMT6         4020\n",
       "PAY_AMT1          5249\n",
       "PAY_AMT2          5396\n",
       "PAY_AMT3          5968\n",
       "PAY_AMT4          6408\n",
       "PAY_AMT5          6703\n",
       "PAY_AMT6          7173\n",
       "Default Status       0\n",
       "dtype: int64"
      ]
     },
     "execution_count": 141,
     "metadata": {},
     "output_type": "execute_result"
    }
   ],
   "source": [
    "data.isnull().sum()"
   ]
  },
  {
   "cell_type": "markdown",
   "id": "36038ebe",
   "metadata": {},
   "source": [
    "# 4) create list for all the columns which have null values columns"
   ]
  },
  {
   "cell_type": "code",
   "execution_count": 142,
   "id": "bbbd6d72",
   "metadata": {},
   "outputs": [
    {
     "name": "stdout",
     "output_type": "stream",
     "text": [
      "       BILL_AMT1  BILL_AMT2  BILL_AMT3  BILL_AMT4  BILL_AMT5  BILL_AMT6  \\\n",
      "0         3913.0      312.0      689.0        NaN        NaN        NaN   \n",
      "1         2682.0     1725.0     2682.0     3272.0     3455.0     3261.0   \n",
      "2        29239.0     1427.0    13559.0    14331.0    14948.0    15549.0   \n",
      "3         4699.0    48233.0    49291.0    28314.0    28959.0    29547.0   \n",
      "4         8617.0      567.0    35835.0      294.0    19146.0    19131.0   \n",
      "...          ...        ...        ...        ...        ...        ...   \n",
      "29995   188948.0   192815.0    28365.0      884.0    31237.0     1598.0   \n",
      "29996     1683.0     1828.0      352.0     8979.0      519.0        NaN   \n",
      "29997     3565.0     3356.0     2758.0     2878.0     2582.0    19357.0   \n",
      "29998    -1645.0    78379.0     7634.0    52774.0    11855.0    48944.0   \n",
      "29999    47929.0     4895.0    49764.0    36535.0    32428.0    15313.0   \n",
      "\n",
      "       PAY_AMT1  PAY_AMT2  PAY_AMT3  PAY_AMT4  PAY_AMT5  PAY_AMT6  \n",
      "0           NaN     689.0       NaN       NaN       NaN       NaN  \n",
      "1           NaN       1.0       1.0       1.0       NaN       2.0  \n",
      "2        1518.0      15.0       1.0       1.0       1.0       5.0  \n",
      "3           2.0     219.0      12.0      11.0     169.0       1.0  \n",
      "4           2.0   36681.0       1.0       9.0     689.0     679.0  \n",
      "...         ...       ...       ...       ...       ...       ...  \n",
      "29995      85.0       2.0      53.0     347.0       5.0       1.0  \n",
      "29996    1837.0    3526.0    8998.0     129.0       NaN       NaN  \n",
      "29997       NaN       NaN      22.0      42.0       2.0      31.0  \n",
      "29998     859.0     349.0    1178.0    1926.0   52964.0     184.0  \n",
      "29999     278.0      18.0     143.0       1.0       1.0       1.0  \n",
      "\n",
      "[30000 rows x 12 columns]\n"
     ]
    }
   ],
   "source": [
    "list=data[[\"BILL_AMT1\",\"BILL_AMT2\",\"BILL_AMT3\",\"BILL_AMT4\",\"BILL_AMT5\",\"BILL_AMT6\",\"PAY_AMT1\",\"PAY_AMT2\",\"PAY_AMT3\",\"PAY_AMT4\",\"PAY_AMT5\",\"PAY_AMT6\"]]\n",
    "print(list)"
   ]
  },
  {
   "cell_type": "code",
   "execution_count": null,
   "id": "8cee27ae",
   "metadata": {},
   "outputs": [],
   "source": []
  },
  {
   "cell_type": "markdown",
   "id": "46c05ead",
   "metadata": {},
   "source": [
    "# 5) fill all the null values with mean using for loops"
   ]
  },
  {
   "cell_type": "code",
   "execution_count": 143,
   "id": "44e1837b",
   "metadata": {},
   "outputs": [
    {
     "name": "stderr",
     "output_type": "stream",
     "text": [
      "C:\\Users\\DELL\\AppData\\Local\\Temp\\ipykernel_6496\\1372077066.py:2: SettingWithCopyWarning: \n",
      "A value is trying to be set on a copy of a slice from a DataFrame\n",
      "\n",
      "See the caveats in the documentation: https://pandas.pydata.org/pandas-docs/stable/user_guide/indexing.html#returning-a-view-versus-a-copy\n",
      "  list[column].fillna(list[column].mean(),inplace=True)\n"
     ]
    }
   ],
   "source": [
    "for column in list.columns:\n",
    "    list[column].fillna(list[column].mean(),inplace=True)"
   ]
  },
  {
   "cell_type": "code",
   "execution_count": 144,
   "id": "6f0a8455",
   "metadata": {},
   "outputs": [
    {
     "data": {
      "text/html": [
       "<div>\n",
       "<style scoped>\n",
       "    .dataframe tbody tr th:only-of-type {\n",
       "        vertical-align: middle;\n",
       "    }\n",
       "\n",
       "    .dataframe tbody tr th {\n",
       "        vertical-align: top;\n",
       "    }\n",
       "\n",
       "    .dataframe thead th {\n",
       "        text-align: right;\n",
       "    }\n",
       "</style>\n",
       "<table border=\"1\" class=\"dataframe\">\n",
       "  <thead>\n",
       "    <tr style=\"text-align: right;\">\n",
       "      <th></th>\n",
       "      <th>BILL_AMT1</th>\n",
       "      <th>BILL_AMT2</th>\n",
       "      <th>BILL_AMT3</th>\n",
       "      <th>BILL_AMT4</th>\n",
       "      <th>BILL_AMT5</th>\n",
       "      <th>BILL_AMT6</th>\n",
       "      <th>PAY_AMT1</th>\n",
       "      <th>PAY_AMT2</th>\n",
       "      <th>PAY_AMT3</th>\n",
       "      <th>PAY_AMT4</th>\n",
       "      <th>PAY_AMT5</th>\n",
       "      <th>PAY_AMT6</th>\n",
       "    </tr>\n",
       "  </thead>\n",
       "  <tbody>\n",
       "    <tr>\n",
       "      <th>0</th>\n",
       "      <td>3913.0</td>\n",
       "      <td>312.0</td>\n",
       "      <td>689.0</td>\n",
       "      <td>30709.50416</td>\n",
       "      <td>29015.123424</td>\n",
       "      <td>28526.276559</td>\n",
       "      <td>2613.957537</td>\n",
       "      <td>689.000000</td>\n",
       "      <td>2584.508988</td>\n",
       "      <td>2250.186122</td>\n",
       "      <td>2300.375885</td>\n",
       "      <td>2608.76576</td>\n",
       "    </tr>\n",
       "    <tr>\n",
       "      <th>1</th>\n",
       "      <td>2682.0</td>\n",
       "      <td>1725.0</td>\n",
       "      <td>2682.0</td>\n",
       "      <td>3272.00000</td>\n",
       "      <td>3455.000000</td>\n",
       "      <td>3261.000000</td>\n",
       "      <td>2613.957537</td>\n",
       "      <td>1.000000</td>\n",
       "      <td>1.000000</td>\n",
       "      <td>1.000000</td>\n",
       "      <td>2300.375885</td>\n",
       "      <td>2.00000</td>\n",
       "    </tr>\n",
       "    <tr>\n",
       "      <th>2</th>\n",
       "      <td>29239.0</td>\n",
       "      <td>1427.0</td>\n",
       "      <td>13559.0</td>\n",
       "      <td>14331.00000</td>\n",
       "      <td>14948.000000</td>\n",
       "      <td>15549.000000</td>\n",
       "      <td>1518.000000</td>\n",
       "      <td>15.000000</td>\n",
       "      <td>1.000000</td>\n",
       "      <td>1.000000</td>\n",
       "      <td>1.000000</td>\n",
       "      <td>5.00000</td>\n",
       "    </tr>\n",
       "    <tr>\n",
       "      <th>3</th>\n",
       "      <td>4699.0</td>\n",
       "      <td>48233.0</td>\n",
       "      <td>49291.0</td>\n",
       "      <td>28314.00000</td>\n",
       "      <td>28959.000000</td>\n",
       "      <td>29547.000000</td>\n",
       "      <td>2.000000</td>\n",
       "      <td>219.000000</td>\n",
       "      <td>12.000000</td>\n",
       "      <td>11.000000</td>\n",
       "      <td>169.000000</td>\n",
       "      <td>1.00000</td>\n",
       "    </tr>\n",
       "    <tr>\n",
       "      <th>4</th>\n",
       "      <td>8617.0</td>\n",
       "      <td>567.0</td>\n",
       "      <td>35835.0</td>\n",
       "      <td>294.00000</td>\n",
       "      <td>19146.000000</td>\n",
       "      <td>19131.000000</td>\n",
       "      <td>2.000000</td>\n",
       "      <td>36681.000000</td>\n",
       "      <td>1.000000</td>\n",
       "      <td>9.000000</td>\n",
       "      <td>689.000000</td>\n",
       "      <td>679.00000</td>\n",
       "    </tr>\n",
       "    <tr>\n",
       "      <th>...</th>\n",
       "      <td>...</td>\n",
       "      <td>...</td>\n",
       "      <td>...</td>\n",
       "      <td>...</td>\n",
       "      <td>...</td>\n",
       "      <td>...</td>\n",
       "      <td>...</td>\n",
       "      <td>...</td>\n",
       "      <td>...</td>\n",
       "      <td>...</td>\n",
       "      <td>...</td>\n",
       "      <td>...</td>\n",
       "    </tr>\n",
       "    <tr>\n",
       "      <th>29995</th>\n",
       "      <td>188948.0</td>\n",
       "      <td>192815.0</td>\n",
       "      <td>28365.0</td>\n",
       "      <td>884.00000</td>\n",
       "      <td>31237.000000</td>\n",
       "      <td>1598.000000</td>\n",
       "      <td>85.000000</td>\n",
       "      <td>2.000000</td>\n",
       "      <td>53.000000</td>\n",
       "      <td>347.000000</td>\n",
       "      <td>5.000000</td>\n",
       "      <td>1.00000</td>\n",
       "    </tr>\n",
       "    <tr>\n",
       "      <th>29996</th>\n",
       "      <td>1683.0</td>\n",
       "      <td>1828.0</td>\n",
       "      <td>352.0</td>\n",
       "      <td>8979.00000</td>\n",
       "      <td>519.000000</td>\n",
       "      <td>28526.276559</td>\n",
       "      <td>1837.000000</td>\n",
       "      <td>3526.000000</td>\n",
       "      <td>8998.000000</td>\n",
       "      <td>129.000000</td>\n",
       "      <td>2300.375885</td>\n",
       "      <td>2608.76576</td>\n",
       "    </tr>\n",
       "    <tr>\n",
       "      <th>29997</th>\n",
       "      <td>3565.0</td>\n",
       "      <td>3356.0</td>\n",
       "      <td>2758.0</td>\n",
       "      <td>2878.00000</td>\n",
       "      <td>2582.000000</td>\n",
       "      <td>19357.000000</td>\n",
       "      <td>2613.957537</td>\n",
       "      <td>2922.761583</td>\n",
       "      <td>22.000000</td>\n",
       "      <td>42.000000</td>\n",
       "      <td>2.000000</td>\n",
       "      <td>31.00000</td>\n",
       "    </tr>\n",
       "    <tr>\n",
       "      <th>29998</th>\n",
       "      <td>-1645.0</td>\n",
       "      <td>78379.0</td>\n",
       "      <td>7634.0</td>\n",
       "      <td>52774.00000</td>\n",
       "      <td>11855.000000</td>\n",
       "      <td>48944.000000</td>\n",
       "      <td>859.000000</td>\n",
       "      <td>349.000000</td>\n",
       "      <td>1178.000000</td>\n",
       "      <td>1926.000000</td>\n",
       "      <td>52964.000000</td>\n",
       "      <td>184.00000</td>\n",
       "    </tr>\n",
       "    <tr>\n",
       "      <th>29999</th>\n",
       "      <td>47929.0</td>\n",
       "      <td>4895.0</td>\n",
       "      <td>49764.0</td>\n",
       "      <td>36535.00000</td>\n",
       "      <td>32428.000000</td>\n",
       "      <td>15313.000000</td>\n",
       "      <td>278.000000</td>\n",
       "      <td>18.000000</td>\n",
       "      <td>143.000000</td>\n",
       "      <td>1.000000</td>\n",
       "      <td>1.000000</td>\n",
       "      <td>1.00000</td>\n",
       "    </tr>\n",
       "  </tbody>\n",
       "</table>\n",
       "<p>30000 rows × 12 columns</p>\n",
       "</div>"
      ],
      "text/plain": [
       "       BILL_AMT1  BILL_AMT2  BILL_AMT3    BILL_AMT4     BILL_AMT5  \\\n",
       "0         3913.0      312.0      689.0  30709.50416  29015.123424   \n",
       "1         2682.0     1725.0     2682.0   3272.00000   3455.000000   \n",
       "2        29239.0     1427.0    13559.0  14331.00000  14948.000000   \n",
       "3         4699.0    48233.0    49291.0  28314.00000  28959.000000   \n",
       "4         8617.0      567.0    35835.0    294.00000  19146.000000   \n",
       "...          ...        ...        ...          ...           ...   \n",
       "29995   188948.0   192815.0    28365.0    884.00000  31237.000000   \n",
       "29996     1683.0     1828.0      352.0   8979.00000    519.000000   \n",
       "29997     3565.0     3356.0     2758.0   2878.00000   2582.000000   \n",
       "29998    -1645.0    78379.0     7634.0  52774.00000  11855.000000   \n",
       "29999    47929.0     4895.0    49764.0  36535.00000  32428.000000   \n",
       "\n",
       "          BILL_AMT6     PAY_AMT1      PAY_AMT2     PAY_AMT3     PAY_AMT4  \\\n",
       "0      28526.276559  2613.957537    689.000000  2584.508988  2250.186122   \n",
       "1       3261.000000  2613.957537      1.000000     1.000000     1.000000   \n",
       "2      15549.000000  1518.000000     15.000000     1.000000     1.000000   \n",
       "3      29547.000000     2.000000    219.000000    12.000000    11.000000   \n",
       "4      19131.000000     2.000000  36681.000000     1.000000     9.000000   \n",
       "...             ...          ...           ...          ...          ...   \n",
       "29995   1598.000000    85.000000      2.000000    53.000000   347.000000   \n",
       "29996  28526.276559  1837.000000   3526.000000  8998.000000   129.000000   \n",
       "29997  19357.000000  2613.957537   2922.761583    22.000000    42.000000   \n",
       "29998  48944.000000   859.000000    349.000000  1178.000000  1926.000000   \n",
       "29999  15313.000000   278.000000     18.000000   143.000000     1.000000   \n",
       "\n",
       "           PAY_AMT5    PAY_AMT6  \n",
       "0       2300.375885  2608.76576  \n",
       "1       2300.375885     2.00000  \n",
       "2          1.000000     5.00000  \n",
       "3        169.000000     1.00000  \n",
       "4        689.000000   679.00000  \n",
       "...             ...         ...  \n",
       "29995      5.000000     1.00000  \n",
       "29996   2300.375885  2608.76576  \n",
       "29997      2.000000    31.00000  \n",
       "29998  52964.000000   184.00000  \n",
       "29999      1.000000     1.00000  \n",
       "\n",
       "[30000 rows x 12 columns]"
      ]
     },
     "execution_count": 144,
     "metadata": {},
     "output_type": "execute_result"
    }
   ],
   "source": [
    "list"
   ]
  },
  {
   "cell_type": "markdown",
   "id": "05c47112",
   "metadata": {},
   "source": [
    "# 6) get the data information"
   ]
  },
  {
   "cell_type": "code",
   "execution_count": 145,
   "id": "e4f75663",
   "metadata": {
    "scrolled": false
   },
   "outputs": [
    {
     "name": "stdout",
     "output_type": "stream",
     "text": [
      "<class 'pandas.core.frame.DataFrame'>\n",
      "RangeIndex: 30000 entries, 0 to 29999\n",
      "Data columns (total 16 columns):\n",
      " #   Column          Non-Null Count  Dtype  \n",
      "---  ------          --------------  -----  \n",
      " 0   ID              30000 non-null  int64  \n",
      " 1   LIMIT_BAL       30000 non-null  float64\n",
      " 2   AGE             30000 non-null  int64  \n",
      " 3   BILL_AMT1       27992 non-null  float64\n",
      " 4   BILL_AMT2       27494 non-null  float64\n",
      " 5   BILL_AMT3       27130 non-null  float64\n",
      " 6   BILL_AMT4       26805 non-null  float64\n",
      " 7   BILL_AMT5       26494 non-null  float64\n",
      " 8   BILL_AMT6       25980 non-null  float64\n",
      " 9   PAY_AMT1        24751 non-null  float64\n",
      " 10  PAY_AMT2        24604 non-null  float64\n",
      " 11  PAY_AMT3        24032 non-null  float64\n",
      " 12  PAY_AMT4        23592 non-null  float64\n",
      " 13  PAY_AMT5        23297 non-null  float64\n",
      " 14  PAY_AMT6        22827 non-null  float64\n",
      " 15  Default Status  30000 non-null  object \n",
      "dtypes: float64(13), int64(2), object(1)\n",
      "memory usage: 3.7+ MB\n"
     ]
    }
   ],
   "source": [
    "data.info()"
   ]
  },
  {
   "cell_type": "markdown",
   "id": "fdec8ad9",
   "metadata": {},
   "source": [
    "# 7) describe dataset "
   ]
  },
  {
   "cell_type": "code",
   "execution_count": 146,
   "id": "7f204539",
   "metadata": {},
   "outputs": [
    {
     "data": {
      "text/html": [
       "<div>\n",
       "<style scoped>\n",
       "    .dataframe tbody tr th:only-of-type {\n",
       "        vertical-align: middle;\n",
       "    }\n",
       "\n",
       "    .dataframe tbody tr th {\n",
       "        vertical-align: top;\n",
       "    }\n",
       "\n",
       "    .dataframe thead th {\n",
       "        text-align: right;\n",
       "    }\n",
       "</style>\n",
       "<table border=\"1\" class=\"dataframe\">\n",
       "  <thead>\n",
       "    <tr style=\"text-align: right;\">\n",
       "      <th></th>\n",
       "      <th>ID</th>\n",
       "      <th>LIMIT_BAL</th>\n",
       "      <th>AGE</th>\n",
       "      <th>BILL_AMT1</th>\n",
       "      <th>BILL_AMT2</th>\n",
       "      <th>BILL_AMT3</th>\n",
       "      <th>BILL_AMT4</th>\n",
       "      <th>BILL_AMT5</th>\n",
       "      <th>BILL_AMT6</th>\n",
       "      <th>PAY_AMT1</th>\n",
       "      <th>PAY_AMT2</th>\n",
       "      <th>PAY_AMT3</th>\n",
       "      <th>PAY_AMT4</th>\n",
       "      <th>PAY_AMT5</th>\n",
       "      <th>PAY_AMT6</th>\n",
       "    </tr>\n",
       "  </thead>\n",
       "  <tbody>\n",
       "    <tr>\n",
       "      <th>count</th>\n",
       "      <td>30000.000000</td>\n",
       "      <td>30000.000000</td>\n",
       "      <td>30000.000000</td>\n",
       "      <td>27992.000000</td>\n",
       "      <td>27494.000000</td>\n",
       "      <td>27130.000000</td>\n",
       "      <td>26805.000000</td>\n",
       "      <td>26494.000000</td>\n",
       "      <td>25980.000000</td>\n",
       "      <td>24751.000000</td>\n",
       "      <td>2.460400e+04</td>\n",
       "      <td>24032.000000</td>\n",
       "      <td>23592.000000</td>\n",
       "      <td>23297.000000</td>\n",
       "      <td>22827.000000</td>\n",
       "    </tr>\n",
       "    <tr>\n",
       "      <th>mean</th>\n",
       "      <td>10666.660700</td>\n",
       "      <td>14.648867</td>\n",
       "      <td>32.427900</td>\n",
       "      <td>33989.494570</td>\n",
       "      <td>33938.750418</td>\n",
       "      <td>32617.867011</td>\n",
       "      <td>30709.504160</td>\n",
       "      <td>29015.123424</td>\n",
       "      <td>28526.276559</td>\n",
       "      <td>2613.957537</td>\n",
       "      <td>2.922762e+03</td>\n",
       "      <td>2584.508988</td>\n",
       "      <td>2250.186122</td>\n",
       "      <td>2300.375885</td>\n",
       "      <td>2608.765760</td>\n",
       "    </tr>\n",
       "    <tr>\n",
       "      <th>std</th>\n",
       "      <td>9698.091793</td>\n",
       "      <td>189.496507</td>\n",
       "      <td>12.718991</td>\n",
       "      <td>61569.150299</td>\n",
       "      <td>60904.557498</td>\n",
       "      <td>58654.145088</td>\n",
       "      <td>54827.113904</td>\n",
       "      <td>51729.302253</td>\n",
       "      <td>51625.821980</td>\n",
       "      <td>12548.633278</td>\n",
       "      <td>1.849890e+04</td>\n",
       "      <td>12242.048527</td>\n",
       "      <td>11056.957868</td>\n",
       "      <td>11071.445005</td>\n",
       "      <td>13358.162766</td>\n",
       "    </tr>\n",
       "    <tr>\n",
       "      <th>min</th>\n",
       "      <td>1.000000</td>\n",
       "      <td>1.000000</td>\n",
       "      <td>3.000000</td>\n",
       "      <td>-154973.000000</td>\n",
       "      <td>-69777.000000</td>\n",
       "      <td>-157264.000000</td>\n",
       "      <td>-81334.000000</td>\n",
       "      <td>-81334.000000</td>\n",
       "      <td>-94625.000000</td>\n",
       "      <td>1.000000</td>\n",
       "      <td>1.000000e+00</td>\n",
       "      <td>1.000000</td>\n",
       "      <td>1.000000</td>\n",
       "      <td>1.000000</td>\n",
       "      <td>1.000000</td>\n",
       "    </tr>\n",
       "    <tr>\n",
       "      <th>25%</th>\n",
       "      <td>1850.500000</td>\n",
       "      <td>4.000000</td>\n",
       "      <td>26.000000</td>\n",
       "      <td>1574.000000</td>\n",
       "      <td>1556.000000</td>\n",
       "      <td>1534.000000</td>\n",
       "      <td>1433.000000</td>\n",
       "      <td>1327.000000</td>\n",
       "      <td>1261.000000</td>\n",
       "      <td>15.000000</td>\n",
       "      <td>1.400000e+01</td>\n",
       "      <td>8.000000</td>\n",
       "      <td>6.000000</td>\n",
       "      <td>5.000000</td>\n",
       "      <td>5.000000</td>\n",
       "    </tr>\n",
       "    <tr>\n",
       "      <th>50%</th>\n",
       "      <td>7483.500000</td>\n",
       "      <td>9.000000</td>\n",
       "      <td>33.000000</td>\n",
       "      <td>8551.500000</td>\n",
       "      <td>8697.500000</td>\n",
       "      <td>8889.500000</td>\n",
       "      <td>8671.000000</td>\n",
       "      <td>8131.500000</td>\n",
       "      <td>7819.000000</td>\n",
       "      <td>166.000000</td>\n",
       "      <td>1.640000e+02</td>\n",
       "      <td>119.000000</td>\n",
       "      <td>75.000000</td>\n",
       "      <td>75.000000</td>\n",
       "      <td>78.000000</td>\n",
       "    </tr>\n",
       "    <tr>\n",
       "      <th>75%</th>\n",
       "      <td>18746.250000</td>\n",
       "      <td>21.000000</td>\n",
       "      <td>41.000000</td>\n",
       "      <td>38251.750000</td>\n",
       "      <td>38605.500000</td>\n",
       "      <td>36534.250000</td>\n",
       "      <td>32855.000000</td>\n",
       "      <td>29680.500000</td>\n",
       "      <td>29459.750000</td>\n",
       "      <td>1667.000000</td>\n",
       "      <td>1.662000e+03</td>\n",
       "      <td>1381.250000</td>\n",
       "      <td>983.000000</td>\n",
       "      <td>982.000000</td>\n",
       "      <td>1133.000000</td>\n",
       "    </tr>\n",
       "    <tr>\n",
       "      <th>max</th>\n",
       "      <td>29999.000000</td>\n",
       "      <td>32768.000000</td>\n",
       "      <td>79.000000</td>\n",
       "      <td>964511.000000</td>\n",
       "      <td>983931.000000</td>\n",
       "      <td>693131.000000</td>\n",
       "      <td>891586.000000</td>\n",
       "      <td>927171.000000</td>\n",
       "      <td>961664.000000</td>\n",
       "      <td>873552.000000</td>\n",
       "      <td>1.684259e+06</td>\n",
       "      <td>417588.000000</td>\n",
       "      <td>528897.000000</td>\n",
       "      <td>426529.000000</td>\n",
       "      <td>528666.000000</td>\n",
       "    </tr>\n",
       "  </tbody>\n",
       "</table>\n",
       "</div>"
      ],
      "text/plain": [
       "                 ID     LIMIT_BAL           AGE      BILL_AMT1      BILL_AMT2  \\\n",
       "count  30000.000000  30000.000000  30000.000000   27992.000000   27494.000000   \n",
       "mean   10666.660700     14.648867     32.427900   33989.494570   33938.750418   \n",
       "std     9698.091793    189.496507     12.718991   61569.150299   60904.557498   \n",
       "min        1.000000      1.000000      3.000000 -154973.000000  -69777.000000   \n",
       "25%     1850.500000      4.000000     26.000000    1574.000000    1556.000000   \n",
       "50%     7483.500000      9.000000     33.000000    8551.500000    8697.500000   \n",
       "75%    18746.250000     21.000000     41.000000   38251.750000   38605.500000   \n",
       "max    29999.000000  32768.000000     79.000000  964511.000000  983931.000000   \n",
       "\n",
       "           BILL_AMT3      BILL_AMT4      BILL_AMT5      BILL_AMT6  \\\n",
       "count   27130.000000   26805.000000   26494.000000   25980.000000   \n",
       "mean    32617.867011   30709.504160   29015.123424   28526.276559   \n",
       "std     58654.145088   54827.113904   51729.302253   51625.821980   \n",
       "min   -157264.000000  -81334.000000  -81334.000000  -94625.000000   \n",
       "25%      1534.000000    1433.000000    1327.000000    1261.000000   \n",
       "50%      8889.500000    8671.000000    8131.500000    7819.000000   \n",
       "75%     36534.250000   32855.000000   29680.500000   29459.750000   \n",
       "max    693131.000000  891586.000000  927171.000000  961664.000000   \n",
       "\n",
       "            PAY_AMT1      PAY_AMT2       PAY_AMT3       PAY_AMT4  \\\n",
       "count   24751.000000  2.460400e+04   24032.000000   23592.000000   \n",
       "mean     2613.957537  2.922762e+03    2584.508988    2250.186122   \n",
       "std     12548.633278  1.849890e+04   12242.048527   11056.957868   \n",
       "min         1.000000  1.000000e+00       1.000000       1.000000   \n",
       "25%        15.000000  1.400000e+01       8.000000       6.000000   \n",
       "50%       166.000000  1.640000e+02     119.000000      75.000000   \n",
       "75%      1667.000000  1.662000e+03    1381.250000     983.000000   \n",
       "max    873552.000000  1.684259e+06  417588.000000  528897.000000   \n",
       "\n",
       "            PAY_AMT5       PAY_AMT6  \n",
       "count   23297.000000   22827.000000  \n",
       "mean     2300.375885    2608.765760  \n",
       "std     11071.445005   13358.162766  \n",
       "min         1.000000       1.000000  \n",
       "25%         5.000000       5.000000  \n",
       "50%        75.000000      78.000000  \n",
       "75%       982.000000    1133.000000  \n",
       "max    426529.000000  528666.000000  "
      ]
     },
     "execution_count": 146,
     "metadata": {},
     "output_type": "execute_result"
    }
   ],
   "source": [
    "data.describe()"
   ]
  },
  {
   "cell_type": "markdown",
   "id": "a91a8c3d",
   "metadata": {},
   "source": [
    "# 8) display box plot for LIMIT_BAL "
   ]
  },
  {
   "cell_type": "code",
   "execution_count": 147,
   "id": "afe36de0",
   "metadata": {},
   "outputs": [
    {
     "data": {
      "text/plain": [
       "0         2\n",
       "1        12\n",
       "2         9\n",
       "3         5\n",
       "4         5\n",
       "         ..\n",
       "29995    22\n",
       "29996    15\n",
       "29997     3\n",
       "29998     8\n",
       "29999     5\n",
       "Name: LIMIT_BAL, Length: 30000, dtype: int32"
      ]
     },
     "execution_count": 147,
     "metadata": {},
     "output_type": "execute_result"
    }
   ],
   "source": [
    "a=data[\"LIMIT_BAL\"].astype(int)\n",
    "a"
   ]
  },
  {
   "cell_type": "code",
   "execution_count": 90,
   "id": "82940422",
   "metadata": {},
   "outputs": [
    {
     "data": {
      "text/plain": [
       "<Axes: >"
      ]
     },
     "execution_count": 90,
     "metadata": {},
     "output_type": "execute_result"
    },
    {
     "data": {
      "image/png": "[encoded data removed]",
      "text/plain": [
       "<Figure size 640x480 with 1 Axes>"
      ]
     },
     "metadata": {},
     "output_type": "display_data"
    }
   ],
   "source": [
    "import seaborn as sns\n",
    "data[\"LIMIT_BAL\"]\n",
    "sns.boxplot(data[\"LIMIT_BAL\"])"
   ]
  },
  {
   "cell_type": "markdown",
   "id": "42c8a610",
   "metadata": {},
   "source": [
    "# 9) display box plot for age "
   ]
  },
  {
   "cell_type": "code",
   "execution_count": 148,
   "id": "4a23dd0d",
   "metadata": {},
   "outputs": [
    {
     "data": {
      "text/plain": [
       "<Axes: >"
      ]
     },
     "execution_count": 148,
     "metadata": {},
     "output_type": "execute_result"
    },
    {
     "data": {
      "image/png": "[encoded data removed]",
      "text/plain": [
       "<Figure size 640x480 with 1 Axes>"
      ]
     },
     "metadata": {},
     "output_type": "display_data"
    }
   ],
   "source": [
    "import seaborn as sns\n",
    "sns.boxplot(data[\"AGE\"])"
   ]
  },
  {
   "cell_type": "markdown",
   "id": "3578f07b",
   "metadata": {},
   "source": [
    "# 10) drop all the null values"
   ]
  },
  {
   "cell_type": "code",
   "execution_count": 149,
   "id": "d1eda8b2",
   "metadata": {},
   "outputs": [],
   "source": [
    "#drop columns\n",
    "data.dropna(inplace=True)"
   ]
  },
  {
   "cell_type": "code",
   "execution_count": 150,
   "id": "a8bf8f9a",
   "metadata": {},
   "outputs": [
    {
     "data": {
      "text/plain": [
       "(15336, 16)"
      ]
     },
     "execution_count": 150,
     "metadata": {},
     "output_type": "execute_result"
    }
   ],
   "source": [
    "data.shape"
   ]
  },
  {
   "cell_type": "code",
   "execution_count": 151,
   "id": "2345bd8f",
   "metadata": {},
   "outputs": [],
   "source": [
    "#drop rows\n",
    "data.dropna(axis=1,inplace=True)"
   ]
  },
  {
   "cell_type": "code",
   "execution_count": 152,
   "id": "113d3755",
   "metadata": {},
   "outputs": [
    {
     "data": {
      "text/plain": [
       "(15336, 16)"
      ]
     },
     "execution_count": 152,
     "metadata": {},
     "output_type": "execute_result"
    }
   ],
   "source": [
    "data.shape"
   ]
  },
  {
   "cell_type": "code",
   "execution_count": 153,
   "id": "78951e90",
   "metadata": {},
   "outputs": [
    {
     "data": {
      "text/html": [
       "<div>\n",
       "<style scoped>\n",
       "    .dataframe tbody tr th:only-of-type {\n",
       "        vertical-align: middle;\n",
       "    }\n",
       "\n",
       "    .dataframe tbody tr th {\n",
       "        vertical-align: top;\n",
       "    }\n",
       "\n",
       "    .dataframe thead th {\n",
       "        text-align: right;\n",
       "    }\n",
       "</style>\n",
       "<table border=\"1\" class=\"dataframe\">\n",
       "  <thead>\n",
       "    <tr style=\"text-align: right;\">\n",
       "      <th></th>\n",
       "      <th>ID</th>\n",
       "      <th>LIMIT_BAL</th>\n",
       "      <th>AGE</th>\n",
       "      <th>BILL_AMT1</th>\n",
       "      <th>BILL_AMT2</th>\n",
       "      <th>BILL_AMT3</th>\n",
       "      <th>BILL_AMT4</th>\n",
       "      <th>BILL_AMT5</th>\n",
       "      <th>BILL_AMT6</th>\n",
       "      <th>PAY_AMT1</th>\n",
       "      <th>PAY_AMT2</th>\n",
       "      <th>PAY_AMT3</th>\n",
       "      <th>PAY_AMT4</th>\n",
       "      <th>PAY_AMT5</th>\n",
       "      <th>PAY_AMT6</th>\n",
       "      <th>Default Status</th>\n",
       "    </tr>\n",
       "  </thead>\n",
       "  <tbody>\n",
       "    <tr>\n",
       "      <th>2</th>\n",
       "      <td>3</td>\n",
       "      <td>9.0</td>\n",
       "      <td>34</td>\n",
       "      <td>29239.0</td>\n",
       "      <td>1427.0</td>\n",
       "      <td>13559.0</td>\n",
       "      <td>14331.0</td>\n",
       "      <td>14948.0</td>\n",
       "      <td>15549.0</td>\n",
       "      <td>1518.0</td>\n",
       "      <td>15.0</td>\n",
       "      <td>1.0</td>\n",
       "      <td>1.0</td>\n",
       "      <td>1.0</td>\n",
       "      <td>5.0</td>\n",
       "      <td>Not Default</td>\n",
       "    </tr>\n",
       "    <tr>\n",
       "      <th>3</th>\n",
       "      <td>4</td>\n",
       "      <td>5.0</td>\n",
       "      <td>37</td>\n",
       "      <td>4699.0</td>\n",
       "      <td>48233.0</td>\n",
       "      <td>49291.0</td>\n",
       "      <td>28314.0</td>\n",
       "      <td>28959.0</td>\n",
       "      <td>29547.0</td>\n",
       "      <td>2.0</td>\n",
       "      <td>219.0</td>\n",
       "      <td>12.0</td>\n",
       "      <td>11.0</td>\n",
       "      <td>169.0</td>\n",
       "      <td>1.0</td>\n",
       "      <td>Not Default</td>\n",
       "    </tr>\n",
       "    <tr>\n",
       "      <th>4</th>\n",
       "      <td>5</td>\n",
       "      <td>5.0</td>\n",
       "      <td>57</td>\n",
       "      <td>8617.0</td>\n",
       "      <td>567.0</td>\n",
       "      <td>35835.0</td>\n",
       "      <td>294.0</td>\n",
       "      <td>19146.0</td>\n",
       "      <td>19131.0</td>\n",
       "      <td>2.0</td>\n",
       "      <td>36681.0</td>\n",
       "      <td>1.0</td>\n",
       "      <td>9.0</td>\n",
       "      <td>689.0</td>\n",
       "      <td>679.0</td>\n",
       "      <td>Not Default</td>\n",
       "    </tr>\n",
       "    <tr>\n",
       "      <th>5</th>\n",
       "      <td>6</td>\n",
       "      <td>5.0</td>\n",
       "      <td>37</td>\n",
       "      <td>644.0</td>\n",
       "      <td>5769.0</td>\n",
       "      <td>5768.0</td>\n",
       "      <td>19394.0</td>\n",
       "      <td>19619.0</td>\n",
       "      <td>224.0</td>\n",
       "      <td>25.0</td>\n",
       "      <td>1815.0</td>\n",
       "      <td>657.0</td>\n",
       "      <td>1.0</td>\n",
       "      <td>1.0</td>\n",
       "      <td>8.0</td>\n",
       "      <td>Not Default</td>\n",
       "    </tr>\n",
       "    <tr>\n",
       "      <th>6</th>\n",
       "      <td>7</td>\n",
       "      <td>5.0</td>\n",
       "      <td>29</td>\n",
       "      <td>367965.0</td>\n",
       "      <td>41223.0</td>\n",
       "      <td>4457.0</td>\n",
       "      <td>542653.0</td>\n",
       "      <td>4833.0</td>\n",
       "      <td>473944.0</td>\n",
       "      <td>55.0</td>\n",
       "      <td>4.0</td>\n",
       "      <td>38.0</td>\n",
       "      <td>2239.0</td>\n",
       "      <td>1375.0</td>\n",
       "      <td>1377.0</td>\n",
       "      <td>Not Default</td>\n",
       "    </tr>\n",
       "    <tr>\n",
       "      <th>...</th>\n",
       "      <td>...</td>\n",
       "      <td>...</td>\n",
       "      <td>...</td>\n",
       "      <td>...</td>\n",
       "      <td>...</td>\n",
       "      <td>...</td>\n",
       "      <td>...</td>\n",
       "      <td>...</td>\n",
       "      <td>...</td>\n",
       "      <td>...</td>\n",
       "      <td>...</td>\n",
       "      <td>...</td>\n",
       "      <td>...</td>\n",
       "      <td>...</td>\n",
       "      <td>...</td>\n",
       "      <td>...</td>\n",
       "    </tr>\n",
       "    <tr>\n",
       "      <th>29990</th>\n",
       "      <td>29991</td>\n",
       "      <td>14.0</td>\n",
       "      <td>41</td>\n",
       "      <td>138325.0</td>\n",
       "      <td>137142.0</td>\n",
       "      <td>13911.0</td>\n",
       "      <td>138262.0</td>\n",
       "      <td>49675.0</td>\n",
       "      <td>46121.0</td>\n",
       "      <td>6.0</td>\n",
       "      <td>7.0</td>\n",
       "      <td>4228.0</td>\n",
       "      <td>155.0</td>\n",
       "      <td>2.0</td>\n",
       "      <td>2.0</td>\n",
       "      <td>Not Default</td>\n",
       "    </tr>\n",
       "    <tr>\n",
       "      <th>29993</th>\n",
       "      <td>29994</td>\n",
       "      <td>1.0</td>\n",
       "      <td>38</td>\n",
       "      <td>342.0</td>\n",
       "      <td>1427.0</td>\n",
       "      <td>12996.0</td>\n",
       "      <td>7626.0</td>\n",
       "      <td>69473.0</td>\n",
       "      <td>554.0</td>\n",
       "      <td>2.0</td>\n",
       "      <td>111784.0</td>\n",
       "      <td>4.0</td>\n",
       "      <td>3.0</td>\n",
       "      <td>2.0</td>\n",
       "      <td>2.0</td>\n",
       "      <td>Not Default</td>\n",
       "    </tr>\n",
       "    <tr>\n",
       "      <th>29995</th>\n",
       "      <td>29996</td>\n",
       "      <td>22.0</td>\n",
       "      <td>39</td>\n",
       "      <td>188948.0</td>\n",
       "      <td>192815.0</td>\n",
       "      <td>28365.0</td>\n",
       "      <td>884.0</td>\n",
       "      <td>31237.0</td>\n",
       "      <td>1598.0</td>\n",
       "      <td>85.0</td>\n",
       "      <td>2.0</td>\n",
       "      <td>53.0</td>\n",
       "      <td>347.0</td>\n",
       "      <td>5.0</td>\n",
       "      <td>1.0</td>\n",
       "      <td>Not Default</td>\n",
       "    </tr>\n",
       "    <tr>\n",
       "      <th>29998</th>\n",
       "      <td>29999</td>\n",
       "      <td>8.0</td>\n",
       "      <td>41</td>\n",
       "      <td>-1645.0</td>\n",
       "      <td>78379.0</td>\n",
       "      <td>7634.0</td>\n",
       "      <td>52774.0</td>\n",
       "      <td>11855.0</td>\n",
       "      <td>48944.0</td>\n",
       "      <td>859.0</td>\n",
       "      <td>349.0</td>\n",
       "      <td>1178.0</td>\n",
       "      <td>1926.0</td>\n",
       "      <td>52964.0</td>\n",
       "      <td>184.0</td>\n",
       "      <td>Default</td>\n",
       "    </tr>\n",
       "    <tr>\n",
       "      <th>29999</th>\n",
       "      <td>3</td>\n",
       "      <td>5.0</td>\n",
       "      <td>46</td>\n",
       "      <td>47929.0</td>\n",
       "      <td>4895.0</td>\n",
       "      <td>49764.0</td>\n",
       "      <td>36535.0</td>\n",
       "      <td>32428.0</td>\n",
       "      <td>15313.0</td>\n",
       "      <td>278.0</td>\n",
       "      <td>18.0</td>\n",
       "      <td>143.0</td>\n",
       "      <td>1.0</td>\n",
       "      <td>1.0</td>\n",
       "      <td>1.0</td>\n",
       "      <td>Default</td>\n",
       "    </tr>\n",
       "  </tbody>\n",
       "</table>\n",
       "<p>15336 rows × 16 columns</p>\n",
       "</div>"
      ],
      "text/plain": [
       "          ID  LIMIT_BAL  AGE  BILL_AMT1  BILL_AMT2  BILL_AMT3  BILL_AMT4  \\\n",
       "2          3        9.0   34    29239.0     1427.0    13559.0    14331.0   \n",
       "3          4        5.0   37     4699.0    48233.0    49291.0    28314.0   \n",
       "4          5        5.0   57     8617.0      567.0    35835.0      294.0   \n",
       "5          6        5.0   37      644.0     5769.0     5768.0    19394.0   \n",
       "6          7        5.0   29   367965.0    41223.0     4457.0   542653.0   \n",
       "...      ...        ...  ...        ...        ...        ...        ...   \n",
       "29990  29991       14.0   41   138325.0   137142.0    13911.0   138262.0   \n",
       "29993  29994        1.0   38      342.0     1427.0    12996.0     7626.0   \n",
       "29995  29996       22.0   39   188948.0   192815.0    28365.0      884.0   \n",
       "29998  29999        8.0   41    -1645.0    78379.0     7634.0    52774.0   \n",
       "29999      3        5.0   46    47929.0     4895.0    49764.0    36535.0   \n",
       "\n",
       "       BILL_AMT5  BILL_AMT6  PAY_AMT1  PAY_AMT2  PAY_AMT3  PAY_AMT4  PAY_AMT5  \\\n",
       "2        14948.0    15549.0    1518.0      15.0       1.0       1.0       1.0   \n",
       "3        28959.0    29547.0       2.0     219.0      12.0      11.0     169.0   \n",
       "4        19146.0    19131.0       2.0   36681.0       1.0       9.0     689.0   \n",
       "5        19619.0      224.0      25.0    1815.0     657.0       1.0       1.0   \n",
       "6         4833.0   473944.0      55.0       4.0      38.0    2239.0    1375.0   \n",
       "...          ...        ...       ...       ...       ...       ...       ...   \n",
       "29990    49675.0    46121.0       6.0       7.0    4228.0     155.0       2.0   \n",
       "29993    69473.0      554.0       2.0  111784.0       4.0       3.0       2.0   \n",
       "29995    31237.0     1598.0      85.0       2.0      53.0     347.0       5.0   \n",
       "29998    11855.0    48944.0     859.0     349.0    1178.0    1926.0   52964.0   \n",
       "29999    32428.0    15313.0     278.0      18.0     143.0       1.0       1.0   \n",
       "\n",
       "       PAY_AMT6 Default Status  \n",
       "2           5.0    Not Default  \n",
       "3           1.0    Not Default  \n",
       "4         679.0    Not Default  \n",
       "5           8.0    Not Default  \n",
       "6        1377.0    Not Default  \n",
       "...         ...            ...  \n",
       "29990       2.0    Not Default  \n",
       "29993       2.0    Not Default  \n",
       "29995       1.0    Not Default  \n",
       "29998     184.0        Default  \n",
       "29999       1.0        Default  \n",
       "\n",
       "[15336 rows x 16 columns]"
      ]
     },
     "execution_count": 153,
     "metadata": {},
     "output_type": "execute_result"
    }
   ],
   "source": [
    "data"
   ]
  },
  {
   "cell_type": "markdown",
   "id": "91dd58de",
   "metadata": {},
   "source": [
    "# 11) perform encoding on default status "
   ]
  },
  {
   "cell_type": "code",
   "execution_count": 154,
   "id": "a91c653a",
   "metadata": {},
   "outputs": [],
   "source": [
    "from sklearn.preprocessing import LabelEncoder"
   ]
  },
  {
   "cell_type": "code",
   "execution_count": 155,
   "id": "c634b323",
   "metadata": {},
   "outputs": [],
   "source": [
    "le=LabelEncoder()"
   ]
  },
  {
   "cell_type": "code",
   "execution_count": 156,
   "id": "27359d01",
   "metadata": {},
   "outputs": [
    {
     "name": "stdout",
     "output_type": "stream",
     "text": [
      "[1 1 1 ... 1 0 0]\n"
     ]
    }
   ],
   "source": [
    "a=le.fit_transform(data[\"Default Status\"])\n",
    "print(a)"
   ]
  },
  {
   "cell_type": "code",
   "execution_count": 157,
   "id": "15ccb16b",
   "metadata": {},
   "outputs": [
    {
     "name": "stdout",
     "output_type": "stream",
     "text": [
      "       0\n",
      "0      1\n",
      "1      1\n",
      "2      1\n",
      "3      1\n",
      "4      1\n",
      "...   ..\n",
      "15331  1\n",
      "15332  1\n",
      "15333  1\n",
      "15334  0\n",
      "15335  0\n",
      "\n",
      "[15336 rows x 1 columns]\n"
     ]
    }
   ],
   "source": [
    "b=pd.DataFrame(a)\n",
    "print(b)"
   ]
  },
  {
   "cell_type": "markdown",
   "id": "45cf296d",
   "metadata": {},
   "source": [
    "# Part-2: Working with Models"
   ]
  },
  {
   "cell_type": "markdown",
   "id": "634243ba",
   "metadata": {},
   "source": [
    "# 1) Create a features and target dataset "
   ]
  },
  {
   "cell_type": "code",
   "execution_count": 158,
   "id": "d586357e",
   "metadata": {},
   "outputs": [
    {
     "data": {
      "text/html": [
       "<div>\n",
       "<style scoped>\n",
       "    .dataframe tbody tr th:only-of-type {\n",
       "        vertical-align: middle;\n",
       "    }\n",
       "\n",
       "    .dataframe tbody tr th {\n",
       "        vertical-align: top;\n",
       "    }\n",
       "\n",
       "    .dataframe thead th {\n",
       "        text-align: right;\n",
       "    }\n",
       "</style>\n",
       "<table border=\"1\" class=\"dataframe\">\n",
       "  <thead>\n",
       "    <tr style=\"text-align: right;\">\n",
       "      <th></th>\n",
       "      <th>ID</th>\n",
       "      <th>LIMIT_BAL</th>\n",
       "      <th>AGE</th>\n",
       "      <th>BILL_AMT1</th>\n",
       "      <th>BILL_AMT2</th>\n",
       "      <th>BILL_AMT3</th>\n",
       "      <th>BILL_AMT4</th>\n",
       "      <th>BILL_AMT5</th>\n",
       "      <th>BILL_AMT6</th>\n",
       "      <th>PAY_AMT1</th>\n",
       "      <th>PAY_AMT2</th>\n",
       "      <th>PAY_AMT3</th>\n",
       "      <th>PAY_AMT4</th>\n",
       "      <th>PAY_AMT5</th>\n",
       "      <th>PAY_AMT6</th>\n",
       "      <th>Default Status</th>\n",
       "    </tr>\n",
       "  </thead>\n",
       "  <tbody>\n",
       "    <tr>\n",
       "      <th>2</th>\n",
       "      <td>3</td>\n",
       "      <td>9.0</td>\n",
       "      <td>34</td>\n",
       "      <td>29239.0</td>\n",
       "      <td>1427.0</td>\n",
       "      <td>13559.0</td>\n",
       "      <td>14331.0</td>\n",
       "      <td>14948.0</td>\n",
       "      <td>15549.0</td>\n",
       "      <td>1518.0</td>\n",
       "      <td>15.0</td>\n",
       "      <td>1.0</td>\n",
       "      <td>1.0</td>\n",
       "      <td>1.0</td>\n",
       "      <td>5.0</td>\n",
       "      <td>Not Default</td>\n",
       "    </tr>\n",
       "    <tr>\n",
       "      <th>3</th>\n",
       "      <td>4</td>\n",
       "      <td>5.0</td>\n",
       "      <td>37</td>\n",
       "      <td>4699.0</td>\n",
       "      <td>48233.0</td>\n",
       "      <td>49291.0</td>\n",
       "      <td>28314.0</td>\n",
       "      <td>28959.0</td>\n",
       "      <td>29547.0</td>\n",
       "      <td>2.0</td>\n",
       "      <td>219.0</td>\n",
       "      <td>12.0</td>\n",
       "      <td>11.0</td>\n",
       "      <td>169.0</td>\n",
       "      <td>1.0</td>\n",
       "      <td>Not Default</td>\n",
       "    </tr>\n",
       "    <tr>\n",
       "      <th>4</th>\n",
       "      <td>5</td>\n",
       "      <td>5.0</td>\n",
       "      <td>57</td>\n",
       "      <td>8617.0</td>\n",
       "      <td>567.0</td>\n",
       "      <td>35835.0</td>\n",
       "      <td>294.0</td>\n",
       "      <td>19146.0</td>\n",
       "      <td>19131.0</td>\n",
       "      <td>2.0</td>\n",
       "      <td>36681.0</td>\n",
       "      <td>1.0</td>\n",
       "      <td>9.0</td>\n",
       "      <td>689.0</td>\n",
       "      <td>679.0</td>\n",
       "      <td>Not Default</td>\n",
       "    </tr>\n",
       "    <tr>\n",
       "      <th>5</th>\n",
       "      <td>6</td>\n",
       "      <td>5.0</td>\n",
       "      <td>37</td>\n",
       "      <td>644.0</td>\n",
       "      <td>5769.0</td>\n",
       "      <td>5768.0</td>\n",
       "      <td>19394.0</td>\n",
       "      <td>19619.0</td>\n",
       "      <td>224.0</td>\n",
       "      <td>25.0</td>\n",
       "      <td>1815.0</td>\n",
       "      <td>657.0</td>\n",
       "      <td>1.0</td>\n",
       "      <td>1.0</td>\n",
       "      <td>8.0</td>\n",
       "      <td>Not Default</td>\n",
       "    </tr>\n",
       "    <tr>\n",
       "      <th>6</th>\n",
       "      <td>7</td>\n",
       "      <td>5.0</td>\n",
       "      <td>29</td>\n",
       "      <td>367965.0</td>\n",
       "      <td>41223.0</td>\n",
       "      <td>4457.0</td>\n",
       "      <td>542653.0</td>\n",
       "      <td>4833.0</td>\n",
       "      <td>473944.0</td>\n",
       "      <td>55.0</td>\n",
       "      <td>4.0</td>\n",
       "      <td>38.0</td>\n",
       "      <td>2239.0</td>\n",
       "      <td>1375.0</td>\n",
       "      <td>1377.0</td>\n",
       "      <td>Not Default</td>\n",
       "    </tr>\n",
       "    <tr>\n",
       "      <th>...</th>\n",
       "      <td>...</td>\n",
       "      <td>...</td>\n",
       "      <td>...</td>\n",
       "      <td>...</td>\n",
       "      <td>...</td>\n",
       "      <td>...</td>\n",
       "      <td>...</td>\n",
       "      <td>...</td>\n",
       "      <td>...</td>\n",
       "      <td>...</td>\n",
       "      <td>...</td>\n",
       "      <td>...</td>\n",
       "      <td>...</td>\n",
       "      <td>...</td>\n",
       "      <td>...</td>\n",
       "      <td>...</td>\n",
       "    </tr>\n",
       "    <tr>\n",
       "      <th>29990</th>\n",
       "      <td>29991</td>\n",
       "      <td>14.0</td>\n",
       "      <td>41</td>\n",
       "      <td>138325.0</td>\n",
       "      <td>137142.0</td>\n",
       "      <td>13911.0</td>\n",
       "      <td>138262.0</td>\n",
       "      <td>49675.0</td>\n",
       "      <td>46121.0</td>\n",
       "      <td>6.0</td>\n",
       "      <td>7.0</td>\n",
       "      <td>4228.0</td>\n",
       "      <td>155.0</td>\n",
       "      <td>2.0</td>\n",
       "      <td>2.0</td>\n",
       "      <td>Not Default</td>\n",
       "    </tr>\n",
       "    <tr>\n",
       "      <th>29993</th>\n",
       "      <td>29994</td>\n",
       "      <td>1.0</td>\n",
       "      <td>38</td>\n",
       "      <td>342.0</td>\n",
       "      <td>1427.0</td>\n",
       "      <td>12996.0</td>\n",
       "      <td>7626.0</td>\n",
       "      <td>69473.0</td>\n",
       "      <td>554.0</td>\n",
       "      <td>2.0</td>\n",
       "      <td>111784.0</td>\n",
       "      <td>4.0</td>\n",
       "      <td>3.0</td>\n",
       "      <td>2.0</td>\n",
       "      <td>2.0</td>\n",
       "      <td>Not Default</td>\n",
       "    </tr>\n",
       "    <tr>\n",
       "      <th>29995</th>\n",
       "      <td>29996</td>\n",
       "      <td>22.0</td>\n",
       "      <td>39</td>\n",
       "      <td>188948.0</td>\n",
       "      <td>192815.0</td>\n",
       "      <td>28365.0</td>\n",
       "      <td>884.0</td>\n",
       "      <td>31237.0</td>\n",
       "      <td>1598.0</td>\n",
       "      <td>85.0</td>\n",
       "      <td>2.0</td>\n",
       "      <td>53.0</td>\n",
       "      <td>347.0</td>\n",
       "      <td>5.0</td>\n",
       "      <td>1.0</td>\n",
       "      <td>Not Default</td>\n",
       "    </tr>\n",
       "    <tr>\n",
       "      <th>29998</th>\n",
       "      <td>29999</td>\n",
       "      <td>8.0</td>\n",
       "      <td>41</td>\n",
       "      <td>-1645.0</td>\n",
       "      <td>78379.0</td>\n",
       "      <td>7634.0</td>\n",
       "      <td>52774.0</td>\n",
       "      <td>11855.0</td>\n",
       "      <td>48944.0</td>\n",
       "      <td>859.0</td>\n",
       "      <td>349.0</td>\n",
       "      <td>1178.0</td>\n",
       "      <td>1926.0</td>\n",
       "      <td>52964.0</td>\n",
       "      <td>184.0</td>\n",
       "      <td>Default</td>\n",
       "    </tr>\n",
       "    <tr>\n",
       "      <th>29999</th>\n",
       "      <td>3</td>\n",
       "      <td>5.0</td>\n",
       "      <td>46</td>\n",
       "      <td>47929.0</td>\n",
       "      <td>4895.0</td>\n",
       "      <td>49764.0</td>\n",
       "      <td>36535.0</td>\n",
       "      <td>32428.0</td>\n",
       "      <td>15313.0</td>\n",
       "      <td>278.0</td>\n",
       "      <td>18.0</td>\n",
       "      <td>143.0</td>\n",
       "      <td>1.0</td>\n",
       "      <td>1.0</td>\n",
       "      <td>1.0</td>\n",
       "      <td>Default</td>\n",
       "    </tr>\n",
       "  </tbody>\n",
       "</table>\n",
       "<p>15336 rows × 16 columns</p>\n",
       "</div>"
      ],
      "text/plain": [
       "          ID  LIMIT_BAL  AGE  BILL_AMT1  BILL_AMT2  BILL_AMT3  BILL_AMT4  \\\n",
       "2          3        9.0   34    29239.0     1427.0    13559.0    14331.0   \n",
       "3          4        5.0   37     4699.0    48233.0    49291.0    28314.0   \n",
       "4          5        5.0   57     8617.0      567.0    35835.0      294.0   \n",
       "5          6        5.0   37      644.0     5769.0     5768.0    19394.0   \n",
       "6          7        5.0   29   367965.0    41223.0     4457.0   542653.0   \n",
       "...      ...        ...  ...        ...        ...        ...        ...   \n",
       "29990  29991       14.0   41   138325.0   137142.0    13911.0   138262.0   \n",
       "29993  29994        1.0   38      342.0     1427.0    12996.0     7626.0   \n",
       "29995  29996       22.0   39   188948.0   192815.0    28365.0      884.0   \n",
       "29998  29999        8.0   41    -1645.0    78379.0     7634.0    52774.0   \n",
       "29999      3        5.0   46    47929.0     4895.0    49764.0    36535.0   \n",
       "\n",
       "       BILL_AMT5  BILL_AMT6  PAY_AMT1  PAY_AMT2  PAY_AMT3  PAY_AMT4  PAY_AMT5  \\\n",
       "2        14948.0    15549.0    1518.0      15.0       1.0       1.0       1.0   \n",
       "3        28959.0    29547.0       2.0     219.0      12.0      11.0     169.0   \n",
       "4        19146.0    19131.0       2.0   36681.0       1.0       9.0     689.0   \n",
       "5        19619.0      224.0      25.0    1815.0     657.0       1.0       1.0   \n",
       "6         4833.0   473944.0      55.0       4.0      38.0    2239.0    1375.0   \n",
       "...          ...        ...       ...       ...       ...       ...       ...   \n",
       "29990    49675.0    46121.0       6.0       7.0    4228.0     155.0       2.0   \n",
       "29993    69473.0      554.0       2.0  111784.0       4.0       3.0       2.0   \n",
       "29995    31237.0     1598.0      85.0       2.0      53.0     347.0       5.0   \n",
       "29998    11855.0    48944.0     859.0     349.0    1178.0    1926.0   52964.0   \n",
       "29999    32428.0    15313.0     278.0      18.0     143.0       1.0       1.0   \n",
       "\n",
       "       PAY_AMT6 Default Status  \n",
       "2           5.0    Not Default  \n",
       "3           1.0    Not Default  \n",
       "4         679.0    Not Default  \n",
       "5           8.0    Not Default  \n",
       "6        1377.0    Not Default  \n",
       "...         ...            ...  \n",
       "29990       2.0    Not Default  \n",
       "29993       2.0    Not Default  \n",
       "29995       1.0    Not Default  \n",
       "29998     184.0        Default  \n",
       "29999       1.0        Default  \n",
       "\n",
       "[15336 rows x 16 columns]"
      ]
     },
     "execution_count": 158,
     "metadata": {},
     "output_type": "execute_result"
    }
   ],
   "source": [
    "data"
   ]
  },
  {
   "cell_type": "code",
   "execution_count": 159,
   "id": "7c4366ad",
   "metadata": {},
   "outputs": [],
   "source": [
    "x = data.drop(columns=['ID', 'Default Status'])"
   ]
  },
  {
   "cell_type": "code",
   "execution_count": 160,
   "id": "b85cff86",
   "metadata": {},
   "outputs": [],
   "source": [
    "y=data[\"Default Status\"]"
   ]
  },
  {
   "cell_type": "markdown",
   "id": "32693b7b",
   "metadata": {},
   "source": [
    "# 2) Split data into training and testing "
   ]
  },
  {
   "cell_type": "code",
   "execution_count": 170,
   "id": "0b706b56",
   "metadata": {},
   "outputs": [],
   "source": [
    "from sklearn.model_selection import train_test_split\n",
    "x_train,x_test,y_train,y_test=train_test_split(x,y,train_size=0.7,random_state=42)"
   ]
  },
  {
   "cell_type": "markdown",
   "id": "086b2f90",
   "metadata": {},
   "source": [
    "# 3) Fit the Gaussian naive bayes classifier "
   ]
  },
  {
   "cell_type": "code",
   "execution_count": 171,
   "id": "d0bae4ab",
   "metadata": {},
   "outputs": [],
   "source": [
    "from sklearn.naive_bayes import GaussianNB\n",
    "from sklearn.metrics import accuracy_score, confusion_matrix, classification_report"
   ]
  },
  {
   "cell_type": "code",
   "execution_count": 172,
   "id": "2c396758",
   "metadata": {},
   "outputs": [],
   "source": [
    "model = GaussianNB()"
   ]
  },
  {
   "cell_type": "markdown",
   "id": "a9866361",
   "metadata": {},
   "source": [
    "model.fit(x_train,y_train"
   ]
  },
  {
   "cell_type": "code",
   "execution_count": 173,
   "id": "1e60c00d",
   "metadata": {},
   "outputs": [
    {
     "data": {
      "text/html": [
       "<style>#sk-container-id-2 {color: black;background-color: white;}#sk-container-id-2 pre{padding: 0;}#sk-container-id-2 div.sk-toggleable {background-color: white;}#sk-container-id-2 label.sk-toggleable__label {cursor: pointer;display: block;width: 100%;margin-bottom: 0;padding: 0.3em;box-sizing: border-box;text-align: center;}#sk-container-id-2 label.sk-toggleable__label-arrow:before {content: \"▸\";float: left;margin-right: 0.25em;color: #696969;}#sk-container-id-2 label.sk-toggleable__label-arrow:hover:before {color: black;}#sk-container-id-2 div.sk-estimator:hover label.sk-toggleable__label-arrow:before {color: black;}#sk-container-id-2 div.sk-toggleable__content {max-height: 0;max-width: 0;overflow: hidden;text-align: left;background-color: #f0f8ff;}#sk-container-id-2 div.sk-toggleable__content pre {margin: 0.2em;color: black;border-radius: 0.25em;background-color: #f0f8ff;}#sk-container-id-2 input.sk-toggleable__control:checked~div.sk-toggleable__content {max-height: 200px;max-width: 100%;overflow: auto;}#sk-container-id-2 input.sk-toggleable__control:checked~label.sk-toggleable__label-arrow:before {content: \"▾\";}#sk-container-id-2 div.sk-estimator input.sk-toggleable__control:checked~label.sk-toggleable__label {background-color: #d4ebff;}#sk-container-id-2 div.sk-label input.sk-toggleable__control:checked~label.sk-toggleable__label {background-color: #d4ebff;}#sk-container-id-2 input.sk-hidden--visually {border: 0;clip: rect(1px 1px 1px 1px);clip: rect(1px, 1px, 1px, 1px);height: 1px;margin: -1px;overflow: hidden;padding: 0;position: absolute;width: 1px;}#sk-container-id-2 div.sk-estimator {font-family: monospace;background-color: #f0f8ff;border: 1px dotted black;border-radius: 0.25em;box-sizing: border-box;margin-bottom: 0.5em;}#sk-container-id-2 div.sk-estimator:hover {background-color: #d4ebff;}#sk-container-id-2 div.sk-parallel-item::after {content: \"\";width: 100%;border-bottom: 1px solid gray;flex-grow: 1;}#sk-container-id-2 div.sk-label:hover label.sk-toggleable__label {background-color: #d4ebff;}#sk-container-id-2 div.sk-serial::before {content: \"\";position: absolute;border-left: 1px solid gray;box-sizing: border-box;top: 0;bottom: 0;left: 50%;z-index: 0;}#sk-container-id-2 div.sk-serial {display: flex;flex-direction: column;align-items: center;background-color: white;padding-right: 0.2em;padding-left: 0.2em;position: relative;}#sk-container-id-2 div.sk-item {position: relative;z-index: 1;}#sk-container-id-2 div.sk-parallel {display: flex;align-items: stretch;justify-content: center;background-color: white;position: relative;}#sk-container-id-2 div.sk-item::before, #sk-container-id-2 div.sk-parallel-item::before {content: \"\";position: absolute;border-left: 1px solid gray;box-sizing: border-box;top: 0;bottom: 0;left: 50%;z-index: -1;}#sk-container-id-2 div.sk-parallel-item {display: flex;flex-direction: column;z-index: 1;position: relative;background-color: white;}#sk-container-id-2 div.sk-parallel-item:first-child::after {align-self: flex-end;width: 50%;}#sk-container-id-2 div.sk-parallel-item:last-child::after {align-self: flex-start;width: 50%;}#sk-container-id-2 div.sk-parallel-item:only-child::after {width: 0;}#sk-container-id-2 div.sk-dashed-wrapped {border: 1px dashed gray;margin: 0 0.4em 0.5em 0.4em;box-sizing: border-box;padding-bottom: 0.4em;background-color: white;}#sk-container-id-2 div.sk-label label {font-family: monospace;font-weight: bold;display: inline-block;line-height: 1.2em;}#sk-container-id-2 div.sk-label-container {text-align: center;}#sk-container-id-2 div.sk-container {/* jupyter's `normalize.less` sets `[hidden] { display: none; }` but bootstrap.min.css set `[hidden] { display: none !important; }` so we also need the `!important` here to be able to override the default hidden behavior on the sphinx rendered scikit-learn.org. See: https://github.com/scikit-learn/scikit-learn/issues/21755 */display: inline-block !important;position: relative;}#sk-container-id-2 div.sk-text-repr-fallback {display: none;}</style><div id=\"sk-container-id-2\" class=\"sk-top-container\"><div class=\"sk-text-repr-fallback\"><pre>GaussianNB()</pre><b>In a Jupyter environment, please rerun this cell to show the HTML representation or trust the notebook. <br />On GitHub, the HTML representation is unable to render, please try loading this page with nbviewer.org.</b></div><div class=\"sk-container\" hidden><div class=\"sk-item\"><div class=\"sk-estimator sk-toggleable\"><input class=\"sk-toggleable__control sk-hidden--visually\" id=\"sk-estimator-id-2\" type=\"checkbox\" checked><label for=\"sk-estimator-id-2\" class=\"sk-toggleable__label sk-toggleable__label-arrow\">GaussianNB</label><div class=\"sk-toggleable__content\"><pre>GaussianNB()</pre></div></div></div></div></div>"
      ],
      "text/plain": [
       "GaussianNB()"
      ]
     },
     "execution_count": 173,
     "metadata": {},
     "output_type": "execute_result"
    }
   ],
   "source": [
    "model.fit(x_train,y_train)"
   ]
  },
  {
   "cell_type": "code",
   "execution_count": 174,
   "id": "1f774ced",
   "metadata": {},
   "outputs": [
    {
     "data": {
      "text/plain": [
       "array(['Default', 'Not Default', 'Not Default', ..., 'Not Default',\n",
       "       'Not Default', 'Not Default'], dtype='<U11')"
      ]
     },
     "execution_count": 174,
     "metadata": {},
     "output_type": "execute_result"
    }
   ],
   "source": [
    "model.predict(x_train)"
   ]
  },
  {
   "cell_type": "code",
   "execution_count": 175,
   "id": "b6a5cd2b",
   "metadata": {},
   "outputs": [
    {
     "data": {
      "text/plain": [
       "array(['Not Default', 'Not Default', 'Not Default', ..., 'Not Default',\n",
       "       'Not Default', 'Not Default'], dtype='<U11')"
      ]
     },
     "execution_count": 175,
     "metadata": {},
     "output_type": "execute_result"
    }
   ],
   "source": [
    "model.predict(x_test)"
   ]
  },
  {
   "cell_type": "markdown",
   "id": "b967c7b6",
   "metadata": {},
   "source": [
    "# 4) Print the training and"
   ]
  },
  {
   "cell_type": "code",
   "execution_count": 176,
   "id": "5b1abb3c",
   "metadata": {},
   "outputs": [
    {
     "data": {
      "text/plain": [
       "0.8457382394038193"
      ]
     },
     "execution_count": 176,
     "metadata": {},
     "output_type": "execute_result"
    }
   ],
   "source": [
    "model.score(x_train,y_train)"
   ]
  },
  {
   "cell_type": "markdown",
   "id": "2dcb8045",
   "metadata": {},
   "source": [
    "# 5) Print the testing score "
   ]
  },
  {
   "cell_type": "code",
   "execution_count": 177,
   "id": "e287213e",
   "metadata": {},
   "outputs": [
    {
     "data": {
      "text/plain": [
       "0.8382960226037818"
      ]
     },
     "execution_count": 177,
     "metadata": {},
     "output_type": "execute_result"
    }
   ],
   "source": [
    "model.score(x_test,y_test)"
   ]
  },
  {
   "cell_type": "markdown",
   "id": "b134c4b1",
   "metadata": {},
   "source": [
    "# 6) Find the accuracy score, "
   ]
  },
  {
   "cell_type": "code",
   "execution_count": 178,
   "id": "7169107e",
   "metadata": {},
   "outputs": [
    {
     "data": {
      "text/plain": [
       "0.8382960226037818"
      ]
     },
     "execution_count": 178,
     "metadata": {},
     "output_type": "execute_result"
    }
   ],
   "source": [
    "from sklearn.metrics import accuracy_score\n",
    "test_a=accuracy_score(y_test,model.predict(x_test))\n",
    "test_a"
   ]
  },
  {
   "cell_type": "code",
   "execution_count": 179,
   "id": "a7cca61f",
   "metadata": {},
   "outputs": [
    {
     "data": {
      "text/plain": [
       "0.8457382394038193"
      ]
     },
     "execution_count": 179,
     "metadata": {},
     "output_type": "execute_result"
    }
   ],
   "source": [
    "from sklearn.metrics import accuracy_score\n",
    "train_a=accuracy_score(y_train,model.predict(x_train))\n",
    "train_a"
   ]
  },
  {
   "cell_type": "markdown",
   "id": "7f968208",
   "metadata": {},
   "source": [
    "# 7) Find the precision score,\n",
    "# 8) Find the recall score\n",
    "# 9) Find the Confusion matrix\n",
    "# 10) Find the Classification report"
   ]
  },
  {
   "cell_type": "code",
   "execution_count": 182,
   "id": "5783281e",
   "metadata": {},
   "outputs": [
    {
     "name": "stdout",
     "output_type": "stream",
     "text": [
      "              precision    recall  f1-score   support\n",
      "\n",
      "     Default       0.17      0.03      0.05      1476\n",
      " Not Default       0.86      0.98      0.92      9259\n",
      "\n",
      "    accuracy                           0.85     10735\n",
      "   macro avg       0.52      0.50      0.49     10735\n",
      "weighted avg       0.77      0.85      0.80     10735\n",
      "\n"
     ]
    }
   ],
   "source": [
    "from sklearn.metrics import classification_report\n",
    "cr=classification_report(y_train,model.predict(x_train))\n",
    "print(cr)"
   ]
  },
  {
   "cell_type": "code",
   "execution_count": 183,
   "id": "ab9e8c04",
   "metadata": {},
   "outputs": [
    {
     "name": "stdout",
     "output_type": "stream",
     "text": [
      "              precision    recall  f1-score   support\n",
      "\n",
      "     Default       0.17      0.03      0.06       662\n",
      " Not Default       0.86      0.97      0.91      3939\n",
      "\n",
      "    accuracy                           0.84      4601\n",
      "   macro avg       0.52      0.50      0.48      4601\n",
      "weighted avg       0.76      0.84      0.79      4601\n",
      "\n"
     ]
    }
   ],
   "source": [
    "from sklearn.metrics import classification_report\n",
    "cr=classification_report(y_test,model.predict(x_test))\n",
    "print(cr)"
   ]
  },
  {
   "cell_type": "code",
   "execution_count": null,
   "id": "30b7a4c4",
   "metadata": {},
   "outputs": [],
   "source": []
  }
 ],
 "metadata": {
  "kernelspec": {
   "display_name": "Python 3 (ipykernel)",
   "language": "python",
   "name": "python3"
  },
  "language_info": {
   "codemirror_mode": {
    "name": "ipython",
    "version": 3
   },
   "file_extension": ".py",
   "mimetype": "text/x-python",
   "name": "python",
   "nbconvert_exporter": "python",
   "pygments_lexer": "ipython3",
   "version": "3.10.9"
  }
 },
 "nbformat": 4,
 "nbformat_minor": 5
}
